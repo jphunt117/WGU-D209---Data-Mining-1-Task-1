{
 "cells": [
  {
   "cell_type": "code",
   "execution_count": 1,
   "id": "589b5879-474f-48b5-b08e-b1f230185c4b",
   "metadata": {},
   "outputs": [],
   "source": [
    "#Import all packages\n",
    "import pandas as pd\n",
    "import numpy as np\n",
    "from pandas import Series, DataFrame\n",
    "\n",
    "import seaborn as sns\n",
    "import matplotlib.pyplot as plt\n",
    "%matplotlib inline\n",
    "\n",
    "import sklearn\n",
    "from sklearn.neighbors import KNeighborsClassifier\n",
    "from sklearn.model_selection import train_test_split, GridSearchCV\n",
    "from sklearn.metrics import classification_report, confusion_matrix, roc_auc_score"
   ]
  },
  {
   "cell_type": "code",
   "execution_count": 2,
   "id": "dfab48f9-dc95-4c0b-b5c0-65577edd7d81",
   "metadata": {},
   "outputs": [
    {
     "data": {
      "text/html": [
       "<div>\n",
       "<style scoped>\n",
       "    .dataframe tbody tr th:only-of-type {\n",
       "        vertical-align: middle;\n",
       "    }\n",
       "\n",
       "    .dataframe tbody tr th {\n",
       "        vertical-align: top;\n",
       "    }\n",
       "\n",
       "    .dataframe thead th {\n",
       "        text-align: right;\n",
       "    }\n",
       "</style>\n",
       "<table border=\"1\" class=\"dataframe\">\n",
       "  <thead>\n",
       "    <tr style=\"text-align: right;\">\n",
       "      <th></th>\n",
       "      <th>CaseOrder</th>\n",
       "      <th>Zip</th>\n",
       "      <th>Lat</th>\n",
       "      <th>Lng</th>\n",
       "      <th>Population</th>\n",
       "      <th>Children</th>\n",
       "      <th>Age</th>\n",
       "      <th>Income</th>\n",
       "      <th>Outage_sec_perweek</th>\n",
       "      <th>Email</th>\n",
       "      <th>...</th>\n",
       "      <th>MonthlyCharge</th>\n",
       "      <th>Bandwidth_GB_Year</th>\n",
       "      <th>Item1</th>\n",
       "      <th>Item2</th>\n",
       "      <th>Item3</th>\n",
       "      <th>Item4</th>\n",
       "      <th>Item5</th>\n",
       "      <th>Item6</th>\n",
       "      <th>Item7</th>\n",
       "      <th>Item8</th>\n",
       "    </tr>\n",
       "  </thead>\n",
       "  <tbody>\n",
       "    <tr>\n",
       "      <th>count</th>\n",
       "      <td>10000.00000</td>\n",
       "      <td>10000.000000</td>\n",
       "      <td>10000.000000</td>\n",
       "      <td>10000.000000</td>\n",
       "      <td>10000.000000</td>\n",
       "      <td>10000.0000</td>\n",
       "      <td>10000.000000</td>\n",
       "      <td>10000.000000</td>\n",
       "      <td>10000.000000</td>\n",
       "      <td>10000.000000</td>\n",
       "      <td>...</td>\n",
       "      <td>10000.000000</td>\n",
       "      <td>10000.000000</td>\n",
       "      <td>10000.000000</td>\n",
       "      <td>10000.000000</td>\n",
       "      <td>10000.000000</td>\n",
       "      <td>10000.000000</td>\n",
       "      <td>10000.000000</td>\n",
       "      <td>10000.000000</td>\n",
       "      <td>10000.000000</td>\n",
       "      <td>10000.000000</td>\n",
       "    </tr>\n",
       "    <tr>\n",
       "      <th>mean</th>\n",
       "      <td>5000.50000</td>\n",
       "      <td>49153.319600</td>\n",
       "      <td>38.757567</td>\n",
       "      <td>-90.782536</td>\n",
       "      <td>9756.562400</td>\n",
       "      <td>2.0877</td>\n",
       "      <td>53.078400</td>\n",
       "      <td>39806.926771</td>\n",
       "      <td>10.001848</td>\n",
       "      <td>12.016000</td>\n",
       "      <td>...</td>\n",
       "      <td>172.624816</td>\n",
       "      <td>3392.341550</td>\n",
       "      <td>3.490800</td>\n",
       "      <td>3.505100</td>\n",
       "      <td>3.487000</td>\n",
       "      <td>3.497500</td>\n",
       "      <td>3.492900</td>\n",
       "      <td>3.497300</td>\n",
       "      <td>3.509500</td>\n",
       "      <td>3.495600</td>\n",
       "    </tr>\n",
       "    <tr>\n",
       "      <th>std</th>\n",
       "      <td>2886.89568</td>\n",
       "      <td>27532.196108</td>\n",
       "      <td>5.437389</td>\n",
       "      <td>15.156142</td>\n",
       "      <td>14432.698671</td>\n",
       "      <td>2.1472</td>\n",
       "      <td>20.698882</td>\n",
       "      <td>28199.916702</td>\n",
       "      <td>2.976019</td>\n",
       "      <td>3.025898</td>\n",
       "      <td>...</td>\n",
       "      <td>42.943094</td>\n",
       "      <td>2185.294852</td>\n",
       "      <td>1.037797</td>\n",
       "      <td>1.034641</td>\n",
       "      <td>1.027977</td>\n",
       "      <td>1.025816</td>\n",
       "      <td>1.024819</td>\n",
       "      <td>1.033586</td>\n",
       "      <td>1.028502</td>\n",
       "      <td>1.028633</td>\n",
       "    </tr>\n",
       "    <tr>\n",
       "      <th>min</th>\n",
       "      <td>1.00000</td>\n",
       "      <td>601.000000</td>\n",
       "      <td>17.966120</td>\n",
       "      <td>-171.688150</td>\n",
       "      <td>0.000000</td>\n",
       "      <td>0.0000</td>\n",
       "      <td>18.000000</td>\n",
       "      <td>348.670000</td>\n",
       "      <td>0.099747</td>\n",
       "      <td>1.000000</td>\n",
       "      <td>...</td>\n",
       "      <td>79.978860</td>\n",
       "      <td>155.506715</td>\n",
       "      <td>1.000000</td>\n",
       "      <td>1.000000</td>\n",
       "      <td>1.000000</td>\n",
       "      <td>1.000000</td>\n",
       "      <td>1.000000</td>\n",
       "      <td>1.000000</td>\n",
       "      <td>1.000000</td>\n",
       "      <td>1.000000</td>\n",
       "    </tr>\n",
       "    <tr>\n",
       "      <th>25%</th>\n",
       "      <td>2500.75000</td>\n",
       "      <td>26292.500000</td>\n",
       "      <td>35.341828</td>\n",
       "      <td>-97.082812</td>\n",
       "      <td>738.000000</td>\n",
       "      <td>0.0000</td>\n",
       "      <td>35.000000</td>\n",
       "      <td>19224.717500</td>\n",
       "      <td>8.018214</td>\n",
       "      <td>10.000000</td>\n",
       "      <td>...</td>\n",
       "      <td>139.979239</td>\n",
       "      <td>1236.470827</td>\n",
       "      <td>3.000000</td>\n",
       "      <td>3.000000</td>\n",
       "      <td>3.000000</td>\n",
       "      <td>3.000000</td>\n",
       "      <td>3.000000</td>\n",
       "      <td>3.000000</td>\n",
       "      <td>3.000000</td>\n",
       "      <td>3.000000</td>\n",
       "    </tr>\n",
       "    <tr>\n",
       "      <th>50%</th>\n",
       "      <td>5000.50000</td>\n",
       "      <td>48869.500000</td>\n",
       "      <td>39.395800</td>\n",
       "      <td>-87.918800</td>\n",
       "      <td>2910.500000</td>\n",
       "      <td>1.0000</td>\n",
       "      <td>53.000000</td>\n",
       "      <td>33170.605000</td>\n",
       "      <td>10.018560</td>\n",
       "      <td>12.000000</td>\n",
       "      <td>...</td>\n",
       "      <td>167.484700</td>\n",
       "      <td>3279.536903</td>\n",
       "      <td>3.000000</td>\n",
       "      <td>4.000000</td>\n",
       "      <td>3.000000</td>\n",
       "      <td>3.000000</td>\n",
       "      <td>3.000000</td>\n",
       "      <td>3.000000</td>\n",
       "      <td>4.000000</td>\n",
       "      <td>3.000000</td>\n",
       "    </tr>\n",
       "    <tr>\n",
       "      <th>75%</th>\n",
       "      <td>7500.25000</td>\n",
       "      <td>71866.500000</td>\n",
       "      <td>42.106908</td>\n",
       "      <td>-80.088745</td>\n",
       "      <td>13168.000000</td>\n",
       "      <td>3.0000</td>\n",
       "      <td>71.000000</td>\n",
       "      <td>53246.170000</td>\n",
       "      <td>11.969485</td>\n",
       "      <td>14.000000</td>\n",
       "      <td>...</td>\n",
       "      <td>200.734725</td>\n",
       "      <td>5586.141370</td>\n",
       "      <td>4.000000</td>\n",
       "      <td>4.000000</td>\n",
       "      <td>4.000000</td>\n",
       "      <td>4.000000</td>\n",
       "      <td>4.000000</td>\n",
       "      <td>4.000000</td>\n",
       "      <td>4.000000</td>\n",
       "      <td>4.000000</td>\n",
       "    </tr>\n",
       "    <tr>\n",
       "      <th>max</th>\n",
       "      <td>10000.00000</td>\n",
       "      <td>99929.000000</td>\n",
       "      <td>70.640660</td>\n",
       "      <td>-65.667850</td>\n",
       "      <td>111850.000000</td>\n",
       "      <td>10.0000</td>\n",
       "      <td>89.000000</td>\n",
       "      <td>258900.700000</td>\n",
       "      <td>21.207230</td>\n",
       "      <td>23.000000</td>\n",
       "      <td>...</td>\n",
       "      <td>290.160419</td>\n",
       "      <td>7158.981530</td>\n",
       "      <td>7.000000</td>\n",
       "      <td>7.000000</td>\n",
       "      <td>8.000000</td>\n",
       "      <td>7.000000</td>\n",
       "      <td>7.000000</td>\n",
       "      <td>8.000000</td>\n",
       "      <td>7.000000</td>\n",
       "      <td>8.000000</td>\n",
       "    </tr>\n",
       "  </tbody>\n",
       "</table>\n",
       "<p>8 rows × 23 columns</p>\n",
       "</div>"
      ],
      "text/plain": [
       "         CaseOrder           Zip           Lat           Lng     Population  \\\n",
       "count  10000.00000  10000.000000  10000.000000  10000.000000   10000.000000   \n",
       "mean    5000.50000  49153.319600     38.757567    -90.782536    9756.562400   \n",
       "std     2886.89568  27532.196108      5.437389     15.156142   14432.698671   \n",
       "min        1.00000    601.000000     17.966120   -171.688150       0.000000   \n",
       "25%     2500.75000  26292.500000     35.341828    -97.082812     738.000000   \n",
       "50%     5000.50000  48869.500000     39.395800    -87.918800    2910.500000   \n",
       "75%     7500.25000  71866.500000     42.106908    -80.088745   13168.000000   \n",
       "max    10000.00000  99929.000000     70.640660    -65.667850  111850.000000   \n",
       "\n",
       "         Children           Age         Income  Outage_sec_perweek  \\\n",
       "count  10000.0000  10000.000000   10000.000000        10000.000000   \n",
       "mean       2.0877     53.078400   39806.926771           10.001848   \n",
       "std        2.1472     20.698882   28199.916702            2.976019   \n",
       "min        0.0000     18.000000     348.670000            0.099747   \n",
       "25%        0.0000     35.000000   19224.717500            8.018214   \n",
       "50%        1.0000     53.000000   33170.605000           10.018560   \n",
       "75%        3.0000     71.000000   53246.170000           11.969485   \n",
       "max       10.0000     89.000000  258900.700000           21.207230   \n",
       "\n",
       "              Email  ...  MonthlyCharge  Bandwidth_GB_Year         Item1  \\\n",
       "count  10000.000000  ...   10000.000000       10000.000000  10000.000000   \n",
       "mean      12.016000  ...     172.624816        3392.341550      3.490800   \n",
       "std        3.025898  ...      42.943094        2185.294852      1.037797   \n",
       "min        1.000000  ...      79.978860         155.506715      1.000000   \n",
       "25%       10.000000  ...     139.979239        1236.470827      3.000000   \n",
       "50%       12.000000  ...     167.484700        3279.536903      3.000000   \n",
       "75%       14.000000  ...     200.734725        5586.141370      4.000000   \n",
       "max       23.000000  ...     290.160419        7158.981530      7.000000   \n",
       "\n",
       "              Item2         Item3         Item4         Item5         Item6  \\\n",
       "count  10000.000000  10000.000000  10000.000000  10000.000000  10000.000000   \n",
       "mean       3.505100      3.487000      3.497500      3.492900      3.497300   \n",
       "std        1.034641      1.027977      1.025816      1.024819      1.033586   \n",
       "min        1.000000      1.000000      1.000000      1.000000      1.000000   \n",
       "25%        3.000000      3.000000      3.000000      3.000000      3.000000   \n",
       "50%        4.000000      3.000000      3.000000      3.000000      3.000000   \n",
       "75%        4.000000      4.000000      4.000000      4.000000      4.000000   \n",
       "max        7.000000      8.000000      7.000000      7.000000      8.000000   \n",
       "\n",
       "              Item7         Item8  \n",
       "count  10000.000000  10000.000000  \n",
       "mean       3.509500      3.495600  \n",
       "std        1.028502      1.028633  \n",
       "min        1.000000      1.000000  \n",
       "25%        3.000000      3.000000  \n",
       "50%        4.000000      3.000000  \n",
       "75%        4.000000      4.000000  \n",
       "max        7.000000      8.000000  \n",
       "\n",
       "[8 rows x 23 columns]"
      ]
     },
     "execution_count": 2,
     "metadata": {},
     "output_type": "execute_result"
    }
   ],
   "source": [
    "#Load the data set into Pandas\n",
    "df = pd.read_csv('churn_clean.csv')\n",
    "df.describe()"
   ]
  },
  {
   "cell_type": "code",
   "execution_count": 3,
   "id": "3b52af5c-5c92-4cfa-9b43-60cdf32c9d67",
   "metadata": {},
   "outputs": [],
   "source": [
    "#Rename the final 8 columns for better visibility\n",
    "df.rename(columns = {'Item1' : 'TimelyResponse',\n",
    "                     'Item2' : 'TimelyFixes',\n",
    "                     'Item3' : 'TimelyReplacement',\n",
    "                     'Item4' : 'Reliability',\n",
    "                     'Item5' : 'Options',\n",
    "                     'Item6' : 'RespectfulResponse',\n",
    "                     'Item7' : 'CourteousExchange',\n",
    "                     'Item8' : 'EvidenceOfListening'},\n",
    "         inplace = True)"
   ]
  },
  {
   "cell_type": "code",
   "execution_count": 4,
   "id": "acf62ce3-710c-4b9b-9d23-be6d615b6756",
   "metadata": {},
   "outputs": [],
   "source": [
    "#Drop the less meaningul columns from the data set\n",
    "df = df.drop(columns = ['CaseOrder', 'Customer_id', 'Interaction', 'UID', 'City', 'State', 'County', 'Zip', 'Lat', 'Lng',\n",
    "                        'Population', 'Area', 'TimeZone', 'Job', 'Marital', 'Gender', 'Email', 'Port_modem', 'Tablet', 'PaperlessBilling', \n",
    "                        'PaymentMethod'])"
   ]
  },
  {
   "cell_type": "code",
   "execution_count": 5,
   "id": "f832d1c7-a46c-4369-93c5-ad7813cd943e",
   "metadata": {},
   "outputs": [
    {
     "data": {
      "text/plain": [
       "Children                0\n",
       "Age                     0\n",
       "Income                  0\n",
       "Churn                   0\n",
       "Outage_sec_perweek      0\n",
       "Contacts                0\n",
       "Yearly_equip_failure    0\n",
       "Techie                  0\n",
       "Contract                0\n",
       "InternetService         0\n",
       "Phone                   0\n",
       "Multiple                0\n",
       "OnlineSecurity          0\n",
       "OnlineBackup            0\n",
       "DeviceProtection        0\n",
       "TechSupport             0\n",
       "StreamingTV             0\n",
       "StreamingMovies         0\n",
       "Tenure                  0\n",
       "MonthlyCharge           0\n",
       "Bandwidth_GB_Year       0\n",
       "TimelyResponse          0\n",
       "TimelyFixes             0\n",
       "TimelyReplacement       0\n",
       "Reliability             0\n",
       "Options                 0\n",
       "RespectfulResponse      0\n",
       "CourteousExchange       0\n",
       "EvidenceOfListening     0\n",
       "dtype: int64"
      ]
     },
     "execution_count": 5,
     "metadata": {},
     "output_type": "execute_result"
    }
   ],
   "source": [
    "#Search for missing data\n",
    "df.isnull().sum()"
   ]
  },
  {
   "cell_type": "code",
   "execution_count": 6,
   "id": "7081f63f-2900-4dd6-904e-6252190fbb68",
   "metadata": {},
   "outputs": [
    {
     "data": {
      "text/plain": [
       "array([[<AxesSubplot:title={'center':'Children'}>,\n",
       "        <AxesSubplot:title={'center':'Age'}>],\n",
       "       [<AxesSubplot:title={'center':'Income'}>,\n",
       "        <AxesSubplot:title={'center':'Outage_sec_perweek'}>],\n",
       "       [<AxesSubplot:title={'center':'MonthlyCharge'}>,\n",
       "        <AxesSubplot:title={'center':'Bandwidth_GB_Year'}>]], dtype=object)"
      ]
     },
     "execution_count": 6,
     "metadata": {},
     "output_type": "execute_result"
    },
    {
     "data": {
      "image/png": "[encoded data removed]",
      "text/plain": [
       "<Figure size 1008x792 with 6 Axes>"
      ]
     },
     "metadata": {
      "needs_background": "light"
     },
     "output_type": "display_data"
    }
   ],
   "source": [
    "#Create histograms for some continuous variables\n",
    "df[['Children', 'Age', 'Income', 'Outage_sec_perweek', 'MonthlyCharge', 'Bandwidth_GB_Year']].hist(ec = \"black\", figsize = (14, 11))\n",
    "#plt.savefig('Histogram1.jpg')"
   ]
  },
  {
   "cell_type": "code",
   "execution_count": 7,
   "id": "f4c850ae-2864-4acd-b741-3c8e1b64365d",
   "metadata": {},
   "outputs": [
    {
     "data": {
      "image/png": "[encoded data removed]",
      "text/plain": [
       "<Figure size 504x504 with 1 Axes>"
      ]
     },
     "metadata": {
      "needs_background": "light"
     },
     "output_type": "display_data"
    }
   ],
   "source": [
    "#Create a few seaborn plots for some categorical variables\n",
    "ax = plt.subplots(figsize = (7, 7))\n",
    "ax = sns.countplot(data = df, x = \"Contract\", hue = \"Churn\",\n",
    "                   ec = \"black\")\n",
    "for x in ax.patches:\n",
    "    height = x.get_height()\n",
    "    ax.text(x.get_x() + x.get_width() / 2, height + 40, height, ha = \"center\")\n",
    "#plt.savefig('Contract.jpg')"
   ]
  },
  {
   "cell_type": "code",
   "execution_count": 8,
   "id": "985e0094-7c54-45b4-84e8-1ecb81e82e9e",
   "metadata": {},
   "outputs": [
    {
     "data": {
      "image/png": "[encoded data removed]",
      "text/plain": [
       "<Figure size 504x504 with 1 Axes>"
      ]
     },
     "metadata": {
      "needs_background": "light"
     },
     "output_type": "display_data"
    }
   ],
   "source": [
    "#Create a few seaborn plots for some categorical variables (1)(2)\n",
    "ax = plt.subplots(figsize = (7, 7))\n",
    "ax = sns.countplot(data = df, x = \"InternetService\", hue = \"Churn\",\n",
    "                   ec = \"black\")\n",
    "for x in ax.patches:\n",
    "    height = x.get_height()\n",
    "    ax.text(x.get_x() + x.get_width() / 2, height + 40, height, ha = \"center\")\n",
    "#plt.savefig('ISP.jpg')"
   ]
  },
  {
   "cell_type": "code",
   "execution_count": 9,
   "id": "047d6f1c-9622-49d9-80fa-9148cb4d7f2d",
   "metadata": {},
   "outputs": [
    {
     "data": {
      "image/png": "[encoded data removed]",
      "text/plain": [
       "<Figure size 360x504 with 1 Axes>"
      ]
     },
     "metadata": {
      "needs_background": "light"
     },
     "output_type": "display_data"
    }
   ],
   "source": [
    "#Create a few seaborn plots for some categorical variables (1)(2)\n",
    "ax = plt.subplots(figsize = (5, 7))\n",
    "ax = sns.countplot(data = df, x = \"StreamingMovies\", hue = \"Churn\", order = ['Yes', 'No'],\n",
    "                   ec = \"black\")\n",
    "for x in ax.patches:\n",
    "    height = x.get_height()\n",
    "    ax.text(x.get_x() + x.get_width() / 2, height + 40, height, ha = \"center\")\n",
    "#plt.savefig('Movie.jpg')"
   ]
  },
  {
   "cell_type": "code",
   "execution_count": 10,
   "id": "26d8197d-ebd2-4262-8d8c-4503130c9eb6",
   "metadata": {},
   "outputs": [
    {
     "data": {
      "image/png": "[encoded data removed]",
      "text/plain": [
       "<Figure size 360x504 with 1 Axes>"
      ]
     },
     "metadata": {
      "needs_background": "light"
     },
     "output_type": "display_data"
    }
   ],
   "source": [
    "#Create a few seaborn plots for some categorical variables (1)(2)\n",
    "ax = plt.subplots(figsize = (5, 7))\n",
    "ax = sns.countplot(data = df, x = \"StreamingTV\", hue = \"Churn\", order = ['Yes', 'No'],\n",
    "                   ec = \"black\")\n",
    "for x in ax.patches:\n",
    "    height = x.get_height()\n",
    "    ax.text(x.get_x() + x.get_width() / 2, height + 40, height, ha = \"center\")\n",
    "#plt.savefig('TV.jpg')"
   ]
  },
  {
   "cell_type": "code",
   "execution_count": 11,
   "id": "99423783-25d6-42cf-95a9-7799796231c1",
   "metadata": {},
   "outputs": [
    {
     "data": {
      "image/png": "[encoded data removed]",
      "text/plain": [
       "<Figure size 360x504 with 1 Axes>"
      ]
     },
     "metadata": {
      "needs_background": "light"
     },
     "output_type": "display_data"
    }
   ],
   "source": [
    "#Create a few seaborn plots for some categorical variables (1)(2)\n",
    "ax = plt.subplots(figsize = (5, 7))\n",
    "ax = sns.countplot(data = df, x = \"Multiple\", hue = \"Churn\", order = ['Yes', 'No'],\n",
    "                   ec = \"black\")\n",
    "for x in ax.patches:\n",
    "    height = x.get_height()\n",
    "    ax.text(x.get_x() + x.get_width() / 2, height + 40, height, ha = \"center\")\n",
    "#plt.savefig('Multiple.jpg')"
   ]
  },
  {
   "cell_type": "code",
   "execution_count": 12,
   "id": "103722d2-875c-4b45-a44e-69293c898929",
   "metadata": {},
   "outputs": [
    {
     "data": {
      "image/png": "[encoded data removed]",
      "text/plain": [
       "<Figure size 360x504 with 1 Axes>"
      ]
     },
     "metadata": {
      "needs_background": "light"
     },
     "output_type": "display_data"
    }
   ],
   "source": [
    "#Create a few seaborn plots for some categorical variables (1)(2)\n",
    "ax = plt.subplots(figsize = (5, 7))\n",
    "ax = sns.countplot(data = df, x = \"Techie\", hue = \"Churn\", order = ['Yes', 'No'],\n",
    "                   ec = \"black\")\n",
    "for x in ax.patches:\n",
    "    height = x.get_height()\n",
    "    ax.text(x.get_x() + x.get_width() / 2, height + 40, height, ha = \"center\")\n",
    "#plt.savefig('Techie.jpg')"
   ]
  },
  {
   "cell_type": "code",
   "execution_count": 13,
   "id": "654aa9fc-d0db-4c0b-a108-fc67f7b5e1bb",
   "metadata": {},
   "outputs": [
    {
     "name": "stdout",
     "output_type": "stream",
     "text": [
      "<class 'pandas.core.frame.DataFrame'>\n",
      "RangeIndex: 10000 entries, 0 to 9999\n",
      "Data columns (total 29 columns):\n",
      " #   Column                Non-Null Count  Dtype  \n",
      "---  ------                --------------  -----  \n",
      " 0   Children              10000 non-null  int64  \n",
      " 1   Age                   10000 non-null  int64  \n",
      " 2   Income                10000 non-null  float64\n",
      " 3   Churn                 10000 non-null  object \n",
      " 4   Outage_sec_perweek    10000 non-null  float64\n",
      " 5   Contacts              10000 non-null  int64  \n",
      " 6   Yearly_equip_failure  10000 non-null  int64  \n",
      " 7   Techie                10000 non-null  object \n",
      " 8   Contract              10000 non-null  object \n",
      " 9   InternetService       10000 non-null  object \n",
      " 10  Phone                 10000 non-null  object \n",
      " 11  Multiple              10000 non-null  object \n",
      " 12  OnlineSecurity        10000 non-null  object \n",
      " 13  OnlineBackup          10000 non-null  object \n",
      " 14  DeviceProtection      10000 non-null  object \n",
      " 15  TechSupport           10000 non-null  object \n",
      " 16  StreamingTV           10000 non-null  object \n",
      " 17  StreamingMovies       10000 non-null  object \n",
      " 18  Tenure                10000 non-null  float64\n",
      " 19  MonthlyCharge         10000 non-null  float64\n",
      " 20  Bandwidth_GB_Year     10000 non-null  float64\n",
      " 21  TimelyResponse        10000 non-null  int64  \n",
      " 22  TimelyFixes           10000 non-null  int64  \n",
      " 23  TimelyReplacement     10000 non-null  int64  \n",
      " 24  Reliability           10000 non-null  int64  \n",
      " 25  Options               10000 non-null  int64  \n",
      " 26  RespectfulResponse    10000 non-null  int64  \n",
      " 27  CourteousExchange     10000 non-null  int64  \n",
      " 28  EvidenceOfListening   10000 non-null  int64  \n",
      "dtypes: float64(5), int64(12), object(12)\n",
      "memory usage: 2.2+ MB\n"
     ]
    }
   ],
   "source": [
    "#See which variables are categorical\n",
    "df.info()"
   ]
  },
  {
   "cell_type": "code",
   "execution_count": 14,
   "id": "f45e391b-5625-4385-89c3-7c8699eb56f7",
   "metadata": {},
   "outputs": [],
   "source": [
    "#No missing data, now to use ordinal encoding to replace the categorical values with numeric ones\n",
    "#Yes to 1, No to 0\n",
    "df['Churn_num'] = df['Churn']\n",
    "df['Techie_num'] = df['Techie']\n",
    "df['Contract_num'] = df['Contract']\n",
    "df['InternetService_num'] = df['InternetService']\n",
    "df['Phone_num'] = df['Phone']\n",
    "df['Multiple_num'] = df['Multiple']\n",
    "df['OnlineSecurity_num'] = df['OnlineSecurity']\n",
    "df['OnlineBackup_num'] = df['OnlineBackup']\n",
    "df['DeviceProtection_num'] = df['DeviceProtection']\n",
    "df['TechSupport_num'] = df['TechSupport']\n",
    "df['StreamingTV_num'] = df['StreamingTV']\n",
    "df['StreamingMovies_num'] = df['StreamingMovies']"
   ]
  },
  {
   "cell_type": "code",
   "execution_count": 15,
   "id": "988b5f41-5610-46ed-a50f-29ef56e7ef40",
   "metadata": {},
   "outputs": [],
   "source": [
    "#Set up dictionary for converting to numeric values\n",
    "dict_churn = {\"Churn_num\" : {\"Yes\" : 1, \"No\" : 0}}\n",
    "dict_techie = {\"Techie_num\" : {\"Yes\" : 1, \"No\" : 0}}\n",
    "dict_phone = {\"Phone_num\" : {\"Yes\" : 1, \"No\" : 0}}\n",
    "dict_multiple = {\"Multiple_num\" : {\"Yes\" : 1, \"No\" : 0}}\n",
    "dict_security = {\"OnlineSecurity_num\" : {\"Yes\" : 1, \"No\" : 0}}\n",
    "dict_backup = {\"OnlineBackup_num\" : {\"Yes\" : 1, \"No\" : 0}}\n",
    "dict_protection = {\"DeviceProtection_num\" : {\"Yes\" : 1, \"No\" : 0}}\n",
    "dict_tech = {\"TechSupport_num\" : {\"Yes\" : 1, \"No\" : 0}}\n",
    "dict_tv = {\"StreamingTV_num\" : {\"Yes\" : 1, \"No\" : 0}}\n",
    "dict_movie = {\"StreamingMovies_num\" : {\"Yes\" : 1, \"No\" : 0}}\n",
    "\n",
    "dict_contract = {\"Contract_num\" : {\"Month-to-month\" : 0, \"One year\" : 1, \"Two Year\" : 2}}\n",
    "dict_isp = {\"InternetService_num\" : {\"None\" : 0, \"DSL\" : 1, \"Fiber Optic\" : 2}}"
   ]
  },
  {
   "cell_type": "code",
   "execution_count": 16,
   "id": "861adedf-aeee-4eae-b071-fe99051d9198",
   "metadata": {},
   "outputs": [],
   "source": [
    "#Replace the variables values\n",
    "df.replace(dict_churn, inplace = True)\n",
    "df.replace(dict_techie, inplace = True)\n",
    "df.replace(dict_phone, inplace = True)\n",
    "df.replace(dict_multiple, inplace = True)\n",
    "df.replace(dict_security, inplace = True)\n",
    "df.replace(dict_backup, inplace = True)\n",
    "df.replace(dict_protection, inplace = True)\n",
    "df.replace(dict_tech, inplace = True)\n",
    "df.replace(dict_tv, inplace = True)\n",
    "df.replace(dict_movie, inplace = True)\n",
    "\n",
    "df.replace(dict_contract, inplace = True)\n",
    "df.replace(dict_isp, inplace = True)"
   ]
  },
  {
   "cell_type": "code",
   "execution_count": 17,
   "id": "3a555118-6142-4f24-9487-e222a094c9fe",
   "metadata": {},
   "outputs": [
    {
     "name": "stdout",
     "output_type": "stream",
     "text": [
      "<class 'pandas.core.frame.DataFrame'>\n",
      "RangeIndex: 10000 entries, 0 to 9999\n",
      "Data columns (total 41 columns):\n",
      " #   Column                Non-Null Count  Dtype  \n",
      "---  ------                --------------  -----  \n",
      " 0   Children              10000 non-null  int64  \n",
      " 1   Age                   10000 non-null  int64  \n",
      " 2   Income                10000 non-null  float64\n",
      " 3   Churn                 10000 non-null  object \n",
      " 4   Outage_sec_perweek    10000 non-null  float64\n",
      " 5   Contacts              10000 non-null  int64  \n",
      " 6   Yearly_equip_failure  10000 non-null  int64  \n",
      " 7   Techie                10000 non-null  object \n",
      " 8   Contract              10000 non-null  object \n",
      " 9   InternetService       10000 non-null  object \n",
      " 10  Phone                 10000 non-null  object \n",
      " 11  Multiple              10000 non-null  object \n",
      " 12  OnlineSecurity        10000 non-null  object \n",
      " 13  OnlineBackup          10000 non-null  object \n",
      " 14  DeviceProtection      10000 non-null  object \n",
      " 15  TechSupport           10000 non-null  object \n",
      " 16  StreamingTV           10000 non-null  object \n",
      " 17  StreamingMovies       10000 non-null  object \n",
      " 18  Tenure                10000 non-null  float64\n",
      " 19  MonthlyCharge         10000 non-null  float64\n",
      " 20  Bandwidth_GB_Year     10000 non-null  float64\n",
      " 21  TimelyResponse        10000 non-null  int64  \n",
      " 22  TimelyFixes           10000 non-null  int64  \n",
      " 23  TimelyReplacement     10000 non-null  int64  \n",
      " 24  Reliability           10000 non-null  int64  \n",
      " 25  Options               10000 non-null  int64  \n",
      " 26  RespectfulResponse    10000 non-null  int64  \n",
      " 27  CourteousExchange     10000 non-null  int64  \n",
      " 28  EvidenceOfListening   10000 non-null  int64  \n",
      " 29  Churn_num             10000 non-null  int64  \n",
      " 30  Techie_num            10000 non-null  int64  \n",
      " 31  Contract_num          10000 non-null  int64  \n",
      " 32  InternetService_num   10000 non-null  int64  \n",
      " 33  Phone_num             10000 non-null  int64  \n",
      " 34  Multiple_num          10000 non-null  int64  \n",
      " 35  OnlineSecurity_num    10000 non-null  int64  \n",
      " 36  OnlineBackup_num      10000 non-null  int64  \n",
      " 37  DeviceProtection_num  10000 non-null  int64  \n",
      " 38  TechSupport_num       10000 non-null  int64  \n",
      " 39  StreamingTV_num       10000 non-null  int64  \n",
      " 40  StreamingMovies_num   10000 non-null  int64  \n",
      "dtypes: float64(5), int64(24), object(12)\n",
      "memory usage: 3.1+ MB\n"
     ]
    }
   ],
   "source": [
    "df.info()"
   ]
  },
  {
   "cell_type": "code",
   "execution_count": 18,
   "id": "aceb2b86-316e-41bd-baf4-b52f136e04be",
   "metadata": {},
   "outputs": [
    {
     "name": "stdout",
     "output_type": "stream",
     "text": [
      "<class 'pandas.core.frame.DataFrame'>\n",
      "RangeIndex: 10000 entries, 0 to 9999\n",
      "Data columns (total 29 columns):\n",
      " #   Column                Non-Null Count  Dtype  \n",
      "---  ------                --------------  -----  \n",
      " 0   Children              10000 non-null  int64  \n",
      " 1   Age                   10000 non-null  int64  \n",
      " 2   Income                10000 non-null  float64\n",
      " 3   Outage_sec_perweek    10000 non-null  float64\n",
      " 4   Contacts              10000 non-null  int64  \n",
      " 5   Yearly_equip_failure  10000 non-null  int64  \n",
      " 6   Tenure                10000 non-null  float64\n",
      " 7   MonthlyCharge         10000 non-null  float64\n",
      " 8   Bandwidth_GB_Year     10000 non-null  float64\n",
      " 9   TimelyResponse        10000 non-null  int64  \n",
      " 10  TimelyFixes           10000 non-null  int64  \n",
      " 11  TimelyReplacement     10000 non-null  int64  \n",
      " 12  Reliability           10000 non-null  int64  \n",
      " 13  Options               10000 non-null  int64  \n",
      " 14  RespectfulResponse    10000 non-null  int64  \n",
      " 15  CourteousExchange     10000 non-null  int64  \n",
      " 16  EvidenceOfListening   10000 non-null  int64  \n",
      " 17  Churn_num             10000 non-null  int64  \n",
      " 18  Techie_num            10000 non-null  int64  \n",
      " 19  Contract_num          10000 non-null  int64  \n",
      " 20  InternetService_num   10000 non-null  int64  \n",
      " 21  Phone_num             10000 non-null  int64  \n",
      " 22  Multiple_num          10000 non-null  int64  \n",
      " 23  OnlineSecurity_num    10000 non-null  int64  \n",
      " 24  OnlineBackup_num      10000 non-null  int64  \n",
      " 25  DeviceProtection_num  10000 non-null  int64  \n",
      " 26  TechSupport_num       10000 non-null  int64  \n",
      " 27  StreamingTV_num       10000 non-null  int64  \n",
      " 28  StreamingMovies_num   10000 non-null  int64  \n",
      "dtypes: float64(5), int64(24)\n",
      "memory usage: 2.2 MB\n"
     ]
    }
   ],
   "source": [
    "#Now that we have those as numeric, we can drop the original columns\n",
    "df = df.drop(columns = ['Churn', 'Techie', 'Phone', 'Multiple', 'OnlineSecurity','OnlineBackup', 'DeviceProtection', 'TechSupport', 'StreamingTV', 'StreamingMovies','Contract', 'InternetService'])\n",
    "df.info()"
   ]
  },
  {
   "cell_type": "code",
   "execution_count": 19,
   "id": "325a7d55-97a2-4426-b82d-63b74efacc13",
   "metadata": {},
   "outputs": [],
   "source": [
    "#Extract prepared dataset\n",
    "df.to_csv('churn_prepared.csv')"
   ]
  },
  {
   "cell_type": "code",
   "execution_count": null,
   "id": "bdc010f7-b613-4714-9a08-369e503e495b",
   "metadata": {},
   "outputs": [],
   "source": []
  }
 ],
 "metadata": {
  "kernelspec": {
   "display_name": "Python 3",
   "language": "python",
   "name": "python3"
  },
  "language_info": {
   "codemirror_mode": {
    "name": "ipython",
    "version": 3
   },
   "file_extension": ".py",
   "mimetype": "text/x-python",
   "name": "python",
   "nbconvert_exporter": "python",
   "pygments_lexer": "ipython3",
   "version": "3.8.8"
  }
 },
 "nbformat": 4,
 "nbformat_minor": 5
}
